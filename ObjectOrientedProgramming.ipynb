{
  "nbformat": 4,
  "nbformat_minor": 0,
  "metadata": {
    "colab": {
      "provenance": [],
      "include_colab_link": true
    },
    "kernelspec": {
      "name": "python3",
      "display_name": "Python 3"
    },
    "language_info": {
      "name": "python"
    }
  },
  "cells": [
    {
      "cell_type": "markdown",
      "metadata": {
        "id": "view-in-github",
        "colab_type": "text"
      },
      "source": [
        "<a href=\"https://colab.research.google.com/github/NEXUD-2024/NEXUS/blob/main/ObjectOrientedProgramming.ipynb\" target=\"_parent\"><img src=\"https://colab.research.google.com/assets/colab-badge.svg\" alt=\"Open In Colab\"/></a>"
      ]
    },
    {
      "cell_type": "code",
      "execution_count": null,
      "metadata": {
        "id": "go3qvEqaR6uG",
        "colab": {
          "base_uri": "https://localhost:8080/"
        },
        "outputId": "3b8c18e5-9c47-469e-be72-7e693903175d"
      },
      "outputs": [
        {
          "output_type": "stream",
          "name": "stdout",
          "text": [
            "Toyota\n",
            "2020\n"
          ]
        }
      ],
      "source": [
        "class Car:\n",
        "\n",
        "    def __init__(self, make, model, year):\n",
        "        self.make = make\n",
        "        self.model = model\n",
        "        self.year = year\n",
        "\n",
        "my_car = Car(\"Toyota\", \"Corolla\", 2020)\n",
        "\n",
        "print(my_car.make)\n",
        "print(my_car.year)"
      ]
    },
    {
      "cell_type": "code",
      "source": [
        "class Car:\n",
        "    def __init__(self, make, model, year):\n",
        "        self.make = make\n",
        "        self.model = model\n",
        "        self.year = year\n",
        "\n",
        "    def drive(self):\n",
        "        print(f\"{self.make} {self.model} is driving.\")\n",
        "\n",
        "    def stop(self):\n",
        "        print(f\"{self.make} {self.model} has stopped.\")\n",
        "\n",
        "my_car = Car(\"Honda\", \"Civic\", 2021)\n",
        "my_car.drive()\n",
        "my_car.stop()\n"
      ],
      "metadata": {
        "id": "WLc_yFcpSLHG",
        "colab": {
          "base_uri": "https://localhost:8080/"
        },
        "outputId": "a5391079-79f4-4e07-d23b-66f407a7a71a"
      },
      "execution_count": null,
      "outputs": [
        {
          "output_type": "stream",
          "name": "stdout",
          "text": [
            "Honda Civic is driving.\n",
            "Honda Civic has stopped.\n"
          ]
        }
      ]
    },
    {
      "cell_type": "code",
      "source": [
        "class Car:\n",
        "    def __init__(self, make, model, year):\n",
        "        self.make = make\n",
        "        self.model = model\n",
        "        self.year = year\n",
        "\n",
        "    def drive(self):\n",
        "        print(f\"{self.make} {self.model} is driving.\")\n",
        "\n",
        "class ElectricCar(Car):\n",
        "    def __init__(self, make, model, year, battery_size):\n",
        "        super().__init__(make, model, year)  # Inherit from Car\n",
        "        self.battery_size = battery_size\n",
        "\n",
        "    def charge(self):\n",
        "        print(f\"{self.make} {self.model} is charging.\")\n",
        "\n",
        "\n",
        "my_electric_car = ElectricCar(\"Tesla\", \"Model 3\", 2023, 75)\n",
        "my_electric_car.drive()\n",
        "my_electric_car.charge()\n"
      ],
      "metadata": {
        "id": "pI1_8VWOWz7R"
      },
      "execution_count": null,
      "outputs": []
    }
  ]
}